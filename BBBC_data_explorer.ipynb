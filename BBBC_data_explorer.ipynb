{
 "cells": [
  {
   "cell_type": "code",
   "execution_count": 1,
   "metadata": {
    "ExecuteTime": {
     "end_time": "2018-08-04T17:07:55.530754Z",
     "start_time": "2018-08-04T17:07:54.554524Z"
    }
   },
   "outputs": [],
   "source": [
    "import os\n",
    "import numpy as np\n",
    "import matplotlib.pyplot as plt"
   ]
  },
  {
   "cell_type": "code",
   "execution_count": 2,
   "metadata": {
    "ExecuteTime": {
     "end_time": "2018-08-04T17:07:55.536742Z",
     "start_time": "2018-08-04T17:07:55.532681Z"
    }
   },
   "outputs": [],
   "source": [
    "IMAGE_DIR = '/Users/daniel/Documents/UCL/Project/Data/BBBC/BBBC010_v1_images/'\n",
    "FULL_MASKS_DIR = '/Users/daniel/Documents/UCL/Project/Data/BBBC/BBBC010_v1_foreground'\n",
    "MASKS_DIR = '/Users/daniel/Documents/UCL/Project/Data/BBBC/BBBC010_v1_foreground_eachworm'\n",
    "\n",
    "OUTPUT_DIR = '/Users/daniel/Documents/UCL/Project/Data/BBBC/BBBC_CURATED'"
   ]
  },
  {
   "cell_type": "code",
   "execution_count": 3,
   "metadata": {
    "ExecuteTime": {
     "end_time": "2018-08-04T17:07:55.546798Z",
     "start_time": "2018-08-04T17:07:55.539123Z"
    }
   },
   "outputs": [],
   "source": [
    "image_fnames = sorted([i for i in os.listdir(IMAGE_DIR) if not i.startswith('.')])\n",
    "fullframe_fnames = sorted([i for i in os.listdir(IMAGE_DIR) if not i.startswith('.') if i[38] == '2'])"
   ]
  },
  {
   "cell_type": "code",
   "execution_count": 4,
   "metadata": {
    "ExecuteTime": {
     "end_time": "2018-08-04T17:07:55.559702Z",
     "start_time": "2018-08-04T17:07:55.550341Z"
    }
   },
   "outputs": [],
   "source": [
    "def plot_images(num_frames):\n",
    "    plt.figure(figsize=(15,5*num_frames))\n",
    "    for i in range(num_frames * 2):\n",
    "        img = plt.imread(os.path.join(IMAGE_DIR,image_fnames[i]))\n",
    "        plt.subplot(num_frames,2,i+1)\n",
    "        plt.imshow(img, cmap='gray')\n",
    "    plt.show()\n",
    "    plt.close()"
   ]
  },
  {
   "cell_type": "code",
   "execution_count": 9,
   "metadata": {
    "ExecuteTime": {
     "end_time": "2018-08-04T17:10:40.671150Z",
     "start_time": "2018-08-04T17:10:00.772737Z"
    }
   },
   "outputs": [],
   "source": [
    "for fname in fullframe_fnames:\n",
    "    img = plt.imread(os.path.join(IMAGE_DIR,fname))\n",
    "    index = fname[33:36]\n",
    "    os.makedirs(os.path.join(OUTPUT_DIR, index, 'image'),exist_ok=True)\n",
    "    os.makedirs(os.path.join(OUTPUT_DIR, index, 'masks'),exist_ok=True)\n",
    "    \n",
    "    plt.imsave(fname = os.path.join(OUTPUT_DIR, index, 'image','image_{}.png'.format(index)),\n",
    "               arr = img, \n",
    "               format='png',\n",
    "               cmap='gray')\n",
    "    \n",
    "    \n",
    "    masks = sorted([i for i in os.listdir(MASKS_DIR) if i.startswith(index)])\n",
    "    \n",
    "    for m in masks:\n",
    "        mask = plt.imread(os.path.join(MASKS_DIR,m))\n",
    "        plt.imsave(fname = os.path.join(OUTPUT_DIR, index, 'masks','mask_{}'.format(m)),\n",
    "               arr = mask, \n",
    "               format='png',\n",
    "               cmap='gray')\n",
    "        \n",
    "    "
   ]
  },
  {
   "cell_type": "code",
   "execution_count": null,
   "metadata": {},
   "outputs": [],
   "source": []
  }
 ],
 "metadata": {
  "kernelspec": {
   "display_name": "Python 3",
   "language": "python",
   "name": "python3"
  },
  "language_info": {
   "codemirror_mode": {
    "name": "ipython",
    "version": 3
   },
   "file_extension": ".py",
   "mimetype": "text/x-python",
   "name": "python",
   "nbconvert_exporter": "python",
   "pygments_lexer": "ipython3",
   "version": "3.6.4"
  }
 },
 "nbformat": 4,
 "nbformat_minor": 2
}
