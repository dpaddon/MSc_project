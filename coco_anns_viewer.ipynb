{
 "cells": [
  {
   "cell_type": "code",
   "execution_count": 1,
   "metadata": {
    "ExecuteTime": {
     "end_time": "2018-08-27T16:28:54.169807Z",
     "start_time": "2018-08-27T16:28:53.458653Z"
    }
   },
   "outputs": [],
   "source": [
    "%matplotlib inline\n",
    "from pycocotools.coco import COCO\n",
    "import numpy as np\n",
    "import skimage.io as io\n",
    "import matplotlib.pyplot as plt\n",
    "import pylab\n",
    "import os\n",
    "pylab.rcParams['figure.figsize'] = (8.0, 10.0)"
   ]
  },
  {
   "cell_type": "code",
   "execution_count": 2,
   "metadata": {
    "ExecuteTime": {
     "end_time": "2018-08-27T16:28:54.181893Z",
     "start_time": "2018-08-27T16:28:54.172670Z"
    }
   },
   "outputs": [
    {
     "name": "stdout",
     "output_type": "stream",
     "text": [
      "['N2_worms10_food1-10_Set1_Pos4_Ch5_20102017_125024', 'NIC199_worms10_food1-10_Set7_Pos4_Ch4_19052017_153012', 'N2_worms10_CSCD068947_10_Set2_Pos5_Ch1_08082017_212337', 'N2_worms10_CSCD068947_1_Set1_Pos4_Ch4_08082017_210418', 'ED3049_worms10_food1-10_Set6_Pos5_Ch4_19052017_151021', 'CX11271_worms10_food1-10_Set1_Pos4_Ch4_19052017_113042', 'JU360_worms10_food1-10_Set6_Pos5_Ch6_19052017_151012', 'VC2010_worms10_food1-10_Set1_Pos4_Ch6_20122017_150107', 'JU2234_worms10_food1-10_Set1_Pos4_Ch3_20102017_125033', 'JU2587_worms10_food1-10_Set1_Pos4_Ch1_20102017_125044', 'CB4856_worms10_food1-10_Set1_Pos4_Ch2_20102017_125044', 'JU2578_worms10_food1-10_Set1_Pos4_Ch4_20102017_125033']\n"
     ]
    }
   ],
   "source": [
    "annType = 'segm'\n",
    "\n",
    "\n",
    "\n",
    "dataDir='/Users/daniel/Documents/UCL/Project/Data/annotation-data/COCO_outputs/ground_truth'\n",
    "resultsDir='/Users/daniel/Documents/UCL/Project/Data/annotation-data/COCO_outputs/tierpsy_evaluation'\n",
    "datasets = [f[:-5] for f in os.listdir(resultsDir) if not f.startswith('.')]\n",
    "print(datasets)"
   ]
  },
  {
   "cell_type": "code",
   "execution_count": 3,
   "metadata": {
    "ExecuteTime": {
     "end_time": "2018-08-27T16:28:54.192104Z",
     "start_time": "2018-08-27T16:28:54.185073Z"
    }
   },
   "outputs": [
    {
     "name": "stdout",
     "output_type": "stream",
     "text": [
      "Dataset: N2_worms10_food1-10_Set1_Pos4_Ch5_20102017_125024\n"
     ]
    }
   ],
   "source": [
    "dataset = datasets[0]\n",
    "print(\"Dataset: {}\".format(dataset))\n",
    "\n",
    "annFile = '{}/{}.json'.format(dataDir,dataset)\n",
    "resultsFile = '{}/{}.json'.format(resultsDir,dataset)\n",
    "\n",
    "imagesDir = os.path.join('/Users/daniel/Documents/UCL/Project/Data/annotation-data/cropped_collated_dataset', dataset)"
   ]
  },
  {
   "cell_type": "code",
   "execution_count": 4,
   "metadata": {
    "ExecuteTime": {
     "end_time": "2018-08-27T16:28:54.283031Z",
     "start_time": "2018-08-27T16:28:54.194289Z"
    }
   },
   "outputs": [
    {
     "name": "stdout",
     "output_type": "stream",
     "text": [
      "loading annotations into memory...\n",
      "Done (t=0.04s)\n",
      "creating index...\n",
      "index created!\n",
      "loading annotations into memory...\n",
      "Done (t=0.03s)\n",
      "creating index...\n",
      "index created!\n"
     ]
    }
   ],
   "source": [
    "# initialize COCO api for instance annotations\n",
    "coco_gt=COCO(annFile)\n",
    "coco_results=COCO(resultsFile)\n",
    "\n",
    "# # display COCO categories and supercategories\n",
    "# cats = coco.loadCats(coco.getCatIds())\n",
    "# nms=[cat['name'] for cat in cats]\n",
    "# print('COCO categories: \\n{}\\n'.format(' '.join(nms)))\n",
    "\n",
    "# nms = set([cat['supercategory'] for cat in cats])\n",
    "# print('COCO supercategories: \\n{}'.format(' '.join(nms)))"
   ]
  },
  {
   "cell_type": "code",
   "execution_count": 10,
   "metadata": {
    "ExecuteTime": {
     "end_time": "2018-08-27T16:29:56.595296Z",
     "start_time": "2018-08-27T16:29:56.530115Z"
    }
   },
   "outputs": [
    {
     "name": "stdout",
     "output_type": "stream",
     "text": [
      "None\n"
     ]
    },
    {
     "ename": "TypeError",
     "evalue": "'NoneType' object is not subscriptable",
     "output_type": "error",
     "traceback": [
      "\u001b[0;31m---------------------------------------------------------------------------\u001b[0m",
      "\u001b[0;31mTypeError\u001b[0m                                 Traceback (most recent call last)",
      "\u001b[0;32m<ipython-input-10-db9cc02a142f>\u001b[0m in \u001b[0;36m<module>\u001b[0;34m()\u001b[0m\n\u001b[1;32m     11\u001b[0m \u001b[0;34m\u001b[0m\u001b[0m\n\u001b[1;32m     12\u001b[0m     \u001b[0;31m# load and display image\u001b[0m\u001b[0;34m\u001b[0m\u001b[0;34m\u001b[0m\u001b[0m\n\u001b[0;32m---> 13\u001b[0;31m     \u001b[0mI\u001b[0m \u001b[0;34m=\u001b[0m \u001b[0mio\u001b[0m\u001b[0;34m.\u001b[0m\u001b[0mimread\u001b[0m\u001b[0;34m(\u001b[0m\u001b[0mos\u001b[0m\u001b[0;34m.\u001b[0m\u001b[0mpath\u001b[0m\u001b[0;34m.\u001b[0m\u001b[0mjoin\u001b[0m\u001b[0;34m(\u001b[0m\u001b[0mimagesDir\u001b[0m\u001b[0;34m,\u001b[0m\u001b[0mimg\u001b[0m\u001b[0;34m[\u001b[0m\u001b[0;34m'file_name'\u001b[0m\u001b[0;34m]\u001b[0m\u001b[0;34m,\u001b[0m\u001b[0;34m'image/image_{}.png'\u001b[0m\u001b[0;34m.\u001b[0m\u001b[0mformat\u001b[0m\u001b[0;34m(\u001b[0m\u001b[0mimg\u001b[0m\u001b[0;34m[\u001b[0m\u001b[0;34m'file_name'\u001b[0m\u001b[0;34m]\u001b[0m\u001b[0;34m)\u001b[0m\u001b[0;34m)\u001b[0m\u001b[0;34m)\u001b[0m\u001b[0;34m\u001b[0m\u001b[0m\n\u001b[0m\u001b[1;32m     14\u001b[0m     \u001b[0;31m# use url to load image\u001b[0m\u001b[0;34m\u001b[0m\u001b[0;34m\u001b[0m\u001b[0m\n\u001b[1;32m     15\u001b[0m     \u001b[0;31m# I = io.imread(img['coco_url'])\u001b[0m\u001b[0;34m\u001b[0m\u001b[0;34m\u001b[0m\u001b[0m\n",
      "\u001b[0;31mTypeError\u001b[0m: 'NoneType' object is not subscriptable"
     ]
    }
   ],
   "source": [
    "# get all images containing given categories, select one at random\n",
    "catIds = coco_gt.getCatIds(catNms=['c_elegans']);\n",
    "imgIds = coco_gt.getImgIds(catIds=catIds );\n",
    "# imgIds = coco.getImgIds(imgIds = [0])\n",
    "# img = coco.loadImgs(imgIds[np.random.randint(0,len(imgIds))])[0]\n",
    "\n",
    "for i in range(len(imgIds)):\n",
    "    \n",
    "    img = coco_gt.loadImgs(imgIds[i])\n",
    "    print(img)\n",
    "\n",
    "    # load and display image\n",
    "    I = io.imread(os.path.join(imagesDir,img['file_name'],'image/image_{}.png'.format(img['file_name'])))\n",
    "    # use url to load image\n",
    "    # I = io.imread(img['coco_url'])\n",
    "    plt.axis('off')\n",
    "    \n",
    "    print(img['file_name'])\n",
    "    # load and display ground truth annotations\n",
    "    plt.subplot(121)\n",
    "    plt.imshow(I); plt.axis('off')\n",
    "    annIds = coco_gt.getAnnIds(imgIds=img['id'], catIds=catIds, iscrowd=None)\n",
    "    print(annIds)\n",
    "    anns = coco_gt.loadAnns(annIds)\n",
    "    coco_gt.showAnns(anns)\n",
    "    \n",
    "    \n",
    "    # load and display tierpsy annotations\n",
    "    plt.subplot(122)\n",
    "    plt.imshow(I); plt.axis('off')\n",
    "    resultIds = coco_results.getAnnIds(imgIds=img['id'], catIds=catIds, iscrowd=None)\n",
    "    print(resultIds)\n",
    "    resultAnns = coco_results.loadAnns(resultIds)\n",
    "    coco_results.showAnns(resultAnns)                  \n",
    "    \n",
    "    \n",
    "    \n",
    "    plt.show()\n",
    "    plt.close()"
   ]
  },
  {
   "cell_type": "code",
   "execution_count": 9,
   "metadata": {
    "ExecuteTime": {
     "end_time": "2018-08-27T16:29:21.012135Z",
     "start_time": "2018-08-27T16:29:21.007424Z"
    }
   },
   "outputs": [],
   "source": [
    "img"
   ]
  },
  {
   "cell_type": "code",
   "execution_count": null,
   "metadata": {},
   "outputs": [],
   "source": []
  }
 ],
 "metadata": {
  "kernelspec": {
   "display_name": "Python 3",
   "language": "python",
   "name": "python3"
  },
  "language_info": {
   "codemirror_mode": {
    "name": "ipython",
    "version": 3
   },
   "file_extension": ".py",
   "mimetype": "text/x-python",
   "name": "python",
   "nbconvert_exporter": "python",
   "pygments_lexer": "ipython3",
   "version": "3.6.4"
  }
 },
 "nbformat": 4,
 "nbformat_minor": 1
}
